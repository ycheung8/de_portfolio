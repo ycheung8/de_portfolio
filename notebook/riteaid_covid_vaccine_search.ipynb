{
  "nbformat": 4,
  "nbformat_minor": 0,
  "metadata": {
    "colab": {
      "name": "riteaid_covid_vaccine_search.ipynb",
      "provenance": [],
      "collapsed_sections": [],
      "authorship_tag": "ABX9TyNDGI4OCS3quxzddVtj+Fpv",
      "include_colab_link": true
    },
    "kernelspec": {
      "name": "python3",
      "display_name": "Python 3"
    },
    "language_info": {
      "name": "python"
    }
  },
  "cells": [
    {
      "cell_type": "markdown",
      "metadata": {
        "id": "view-in-github",
        "colab_type": "text"
      },
      "source": [
        "<a href=\"https://colab.research.google.com/github/ycheung8/de_portfolio/blob/main/notebook/riteaid_covid_vaccine_search.ipynb\" target=\"_parent\"><img src=\"https://colab.research.google.com/assets/colab-badge.svg\" alt=\"Open In Colab\"/></a>"
      ]
    },
    {
      "cell_type": "code",
      "execution_count": null,
      "metadata": {
        "id": "u2-3k8ztcmgr"
      },
      "outputs": [],
      "source": [
        "import requests\n",
        "from bs4 import BeautifulSoup\n",
        "import pandas as pd\n",
        "import json\n",
        "from datetime import datetime\n",
        "import smtplib\n",
        "#import math math.isNaN() "
      ]
    },
    {
      "cell_type": "code",
      "source": [
        "def initial_ra_file():\n",
        "    df = pd.read_csv(r'C:\\Users\\ycheung\\Documents\\Python_Script\\rite_aid\\ra_pa_data_1.csv', dtype=str)\n",
        "    ra_output_name = ['Data','Status','current_dtm','dtm','pos_change','old_slot']\n",
        "    df2 = pd.concat([df,pd.DataFrame(columns=ra_output_name)], sort=False)\n",
        "    return df2"
      ],
      "metadata": {
        "id": "xnHLNoCQczZD"
      },
      "execution_count": null,
      "outputs": []
    },
    {
      "cell_type": "code",
      "source": [
        "#df2 = initial_ra_file()\n",
        "df2 = pd.read_csv(r'C:\\Users\\ycheung\\Documents\\Python_Script\\rite_aid\\ra_pa_data.csv', dtype=str)\n",
        "\n",
        "df2['old_slot'] = df2['Data']\n",
        "df2['pos_change'] = pd.to_numeric(df2['pos_change'])\n",
        "df2['pos_change'] = 0 \n",
        "\n",
        "copy_address = []\n",
        "\n",
        "df2['old_slot'] = df2['Data']"
      ],
      "metadata": {
        "colab": {
          "base_uri": "https://localhost:8080/",
          "height": 234
        },
        "id": "ADk-I_f3ZdgK",
        "outputId": "21f37578-5fd8-45a5-c255-c5937a91b8d3"
      },
      "execution_count": 1,
      "outputs": [
        {
          "output_type": "error",
          "ename": "NameError",
          "evalue": "ignored",
          "traceback": [
            "\u001b[0;31m---------------------------------------------------------------------------\u001b[0m",
            "\u001b[0;31mNameError\u001b[0m                                 Traceback (most recent call last)",
            "\u001b[0;32m<ipython-input-1-2419fdc6721a>\u001b[0m in \u001b[0;36m<module>\u001b[0;34m()\u001b[0m\n\u001b[1;32m      1\u001b[0m \u001b[0;31m#df2 = initial_ra_file()\u001b[0m\u001b[0;34m\u001b[0m\u001b[0;34m\u001b[0m\u001b[0;34m\u001b[0m\u001b[0m\n\u001b[0;32m----> 2\u001b[0;31m \u001b[0mdf2\u001b[0m \u001b[0;34m=\u001b[0m \u001b[0mpd\u001b[0m\u001b[0;34m.\u001b[0m\u001b[0mread_csv\u001b[0m\u001b[0;34m(\u001b[0m\u001b[0;34mr'C:\\Users\\ycheung\\Documents\\Python_Script\\rite_aid\\ra_pa_data.csv'\u001b[0m\u001b[0;34m,\u001b[0m \u001b[0mdtype\u001b[0m\u001b[0;34m=\u001b[0m\u001b[0mstr\u001b[0m\u001b[0;34m)\u001b[0m\u001b[0;34m\u001b[0m\u001b[0;34m\u001b[0m\u001b[0m\n\u001b[0m\u001b[1;32m      3\u001b[0m \u001b[0;34m\u001b[0m\u001b[0m\n\u001b[1;32m      4\u001b[0m \u001b[0mdf2\u001b[0m\u001b[0;34m[\u001b[0m\u001b[0;34m'old_slot'\u001b[0m\u001b[0;34m]\u001b[0m \u001b[0;34m=\u001b[0m \u001b[0mdf2\u001b[0m\u001b[0;34m[\u001b[0m\u001b[0;34m'Data'\u001b[0m\u001b[0;34m]\u001b[0m\u001b[0;34m\u001b[0m\u001b[0;34m\u001b[0m\u001b[0m\n\u001b[1;32m      5\u001b[0m \u001b[0mdf2\u001b[0m\u001b[0;34m[\u001b[0m\u001b[0;34m'pos_change'\u001b[0m\u001b[0;34m]\u001b[0m \u001b[0;34m=\u001b[0m \u001b[0mpd\u001b[0m\u001b[0;34m.\u001b[0m\u001b[0mto_numeric\u001b[0m\u001b[0;34m(\u001b[0m\u001b[0mdf2\u001b[0m\u001b[0;34m[\u001b[0m\u001b[0;34m'pos_change'\u001b[0m\u001b[0;34m]\u001b[0m\u001b[0;34m)\u001b[0m\u001b[0;34m\u001b[0m\u001b[0;34m\u001b[0m\u001b[0m\n",
            "\u001b[0;31mNameError\u001b[0m: name 'pd' is not defined"
          ]
        }
      ]
    },
    {
      "cell_type": "code",
      "source": [
        "sms_text = ''\n",
        "\n",
        "#set up email text variables\n",
        "server = smtplib.SMTP( \"smtp.gmail.com\", 587 )\n",
        "server.starttls()\n",
        "server.login( 'yic.alerts@gmail.com', 'Upgrade135' )\n",
        "from_mail = 'yic.alerts@gmail.com'"
      ],
      "metadata": {
        "id": "vv3td4XaZlpg"
      },
      "execution_count": null,
      "outputs": []
    },
    {
      "cell_type": "code",
      "source": [
        "for store in df2['store_number']:\n",
        "    # current time\n",
        "    current_dtm = datetime.now().strftime('%Y-%m-%d %H:%M:%S')\n",
        "    df2.loc[df2.store_number == store,'current_dtm'] = current_dtm\n",
        "\n",
        "    old_slot = df2.loc[df2['store_number']==store,'old_slot'].values[0] # this stays a string\n",
        "\n",
        "    # access website\n",
        "    page_resp = requests.get(\"https://www.riteaid.com/services/ext/v2/vaccine/checkSlots?storeNumber=\"+store)\n",
        "    page = requests.get(\"https://www.riteaid.com/services/ext/v2/vaccine/checkSlots?storeNumber=\"+store).text\n",
        "\n",
        "    df_json = pd.read_json(page)\n",
        "    slot = (df_json['Data'][0]['1'])\n",
        "    df2.loc[df2.store_number == store,'Data'] = slot\n",
        "    df2.loc[df2.store_number == store,'Status'] = df_json[\"Status\"][0]\n",
        "\n",
        "    #values to change pos_change field, which generates alert\n",
        "    if (slot == True and old_slot == 'False'):\n",
        "        df2.loc[df2.store_number == store,'pos_change'] = 1\n",
        "        df2.loc[df2.store_number == store,'dtm'] = datetime.now().strftime('%Y-%m-%d %H:%M:%S')\n",
        "        copy_address.append(str(df2.loc[df2.store_number == store,'address_1'].iloc[0] + ' ' + df2.loc[df2.store_number == store,'city'].iloc[0] + ' ' + df2.loc[df2.store_number == store,'state'].iloc[0] + ' ' + df2.loc[df2.store_number == store,'zip'].iloc[0] + ' '))\n",
        "        copy_address_1 = str(df2.loc[df2.store_number == store,'address_1'].iloc[0] + ' ' + df2.loc[df2.store_number == store,'city'].iloc[0] + ' ' + df2.loc[df2.store_number == store,'state'].iloc[0] + ' ' + df2.loc[df2.store_number == store,'zip'].iloc[0] + ' ')            \n",
        "\n",
        "        message = (\"From: %s\\r\\n\" % from_mail + \"To: %s\\r\\n\" % from_mail + \"Subject: %s\\r\\n\" % '' + \"\\r\\n\" + sms_text.join(copy_address_1))\n",
        "        server.sendmail(from_mail, from_mail, message)\n",
        "            \n",
        "    else:\n",
        "        df2.loc[df2.store_number == store,'pos_change'] = 0"
      ],
      "metadata": {
        "id": "PT1-GGn7ZpPz"
      },
      "execution_count": null,
      "outputs": []
    },
    {
      "cell_type": "code",
      "source": [
        "server.quit()  "
      ],
      "metadata": {
        "id": "xCtJkK4hZvu-"
      },
      "execution_count": null,
      "outputs": []
    },
    {
      "cell_type": "code",
      "source": [
        "df2 = df2[['store_number','address_1','city','state','zip','Data','Status','current_dtm','dtm','pos_change','old_slot']]\n",
        "#print(df2)\n",
        "df2.to_csv(\"C:/Users/ycheung/Documents/Python_Script/rite_aid/ra_pa_data\"+\"_\"+datetime.now().strftime('%H_%M')+\".csv\", encoding='utf-8')\n",
        "df2.to_csv(\"C:/Users/ycheung/Documents/Python_Script/rite_aid/ra_pa_data.csv\", encoding='utf-8')"
      ],
      "metadata": {
        "id": "AV9v99bqZx00"
      },
      "execution_count": null,
      "outputs": []
    }
  ]
}